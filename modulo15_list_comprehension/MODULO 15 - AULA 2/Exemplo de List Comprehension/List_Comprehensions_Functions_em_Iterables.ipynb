{
 "cells": [
  {
   "cell_type": "markdown",
   "metadata": {},
   "source": [
    "# Um exemplo prático de List Comprehension\n",
    "\n",
    "### O que faríamos se quisermos ordenar 2 listas \"relacionadas\""
   ]
  },
  {
   "cell_type": "code",
   "execution_count": null,
   "metadata": {},
   "outputs": [
    {
     "name": "stdout",
     "output_type": "stream",
     "text": [
      "['microondas', 'iphone', 'vinho', 'cafeiteira']\n"
     ]
    }
   ],
   "source": [
    "vendas_produtos = [1500, 150, 2100, 1950] ## lista dos valores de venda dos produtos\n",
    "produtos = ['vinho', 'cafeiteira', 'microondas', 'iphone'] ## lista de produtos\n",
    "\n",
    "lista_aux = list(zip(vendas_produtos, produtos)) ## zipando vendas_produtos e produtos e transformando em uma lista\n",
    "lista_aux.sort(reverse=True) ## ordenando a lista do maior para o menor\n",
    "produtos = [produto for vendas, produto in lista_aux] ## list comprehension para 'pegar' somente o produto em lista_aux\n",
    "print(produtos)\n",
    "\n"
   ]
  }
 ],
 "metadata": {
  "kernelspec": {
   "display_name": "Python 3",
   "language": "python",
   "name": "python3"
  },
  "language_info": {
   "codemirror_mode": {
    "name": "ipython",
    "version": 3
   },
   "file_extension": ".py",
   "mimetype": "text/x-python",
   "name": "python",
   "nbconvert_exporter": "python",
   "pygments_lexer": "ipython3",
   "version": "3.11.9"
  }
 },
 "nbformat": 4,
 "nbformat_minor": 4
}
