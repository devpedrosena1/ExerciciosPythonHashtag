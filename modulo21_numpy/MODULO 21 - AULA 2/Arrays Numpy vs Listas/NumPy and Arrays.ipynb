{
 "cells": [
  {
   "cell_type": "markdown",
   "metadata": {
    "id": "BVKaxu0ppS0l"
   },
   "source": [
    "# Guia de Introdução ao NumPy\n",
    "\n",
    "NumPy, que significa Numerical Python, é uma biblioteca fundamental para a computação científica em Python. Mas suas capacidades vão muito além disso, como veremos nos nestes vídeos. E ele serve como uma boa base para o Pandas, que é uma das bibliotecas mais populares para análise de dados em Python."
   ]
  },
  {
   "cell_type": "markdown",
   "metadata": {
    "id": "oEtVeUhWpS0o"
   },
   "source": [
    "## Instalação\n",
    "\n",
    "Para instalar o NumPy, você pode usar o comando `pip install numpy` no terminal."
   ]
  },
  {
   "cell_type": "code",
   "execution_count": null,
   "metadata": {
    "id": "AFLu4-arpS0o",
    "jupyter": {
     "outputs_hidden": false
    }
   },
   "outputs": [
    {
     "name": "stdout",
     "output_type": "stream",
     "text": [
      "Collecting numpy\n",
      "  Downloading numpy-2.2.3-cp311-cp311-win_amd64.whl.metadata (60 kB)\n",
      "     ---------------------------------------- 0.0/60.8 kB ? eta -:--:--\n",
      "     ------------ ------------------------- 20.5/60.8 kB 217.9 kB/s eta 0:00:01\n",
      "     ------------------------- ------------ 41.0/60.8 kB 393.8 kB/s eta 0:00:01\n",
      "     -------------------------------------- 60.8/60.8 kB 464.3 kB/s eta 0:00:00\n",
      "Downloading numpy-2.2.3-cp311-cp311-win_amd64.whl (12.9 MB)\n",
      "   ---------------------------------------- 0.0/12.9 MB ? eta -:--:--\n",
      "   -- ------------------------------------- 0.8/12.9 MB 18.3 MB/s eta 0:00:01\n",
      "   ------- -------------------------------- 2.4/12.9 MB 25.7 MB/s eta 0:00:01\n",
      "   --------- ------------------------------ 2.9/12.9 MB 21.0 MB/s eta 0:00:01\n",
      "   ----------- ---------------------------- 3.6/12.9 MB 17.8 MB/s eta 0:00:01\n",
      "   ------------- -------------------------- 4.3/12.9 MB 17.1 MB/s eta 0:00:01\n",
      "   ------------------ --------------------- 6.0/12.9 MB 20.2 MB/s eta 0:00:01\n",
      "   --------------------- ------------------ 6.8/12.9 MB 20.7 MB/s eta 0:00:01\n",
      "   --------------------- ------------------ 7.0/12.9 MB 18.0 MB/s eta 0:00:01\n",
      "   -------------------------- ------------- 8.7/12.9 MB 19.9 MB/s eta 0:00:01\n",
      "   ------------------------------ --------- 9.9/12.9 MB 20.4 MB/s eta 0:00:01\n",
      "   ---------------------------------- ----- 11.0/12.9 MB 21.1 MB/s eta 0:00:01\n",
      "   ------------------------------------- -- 12.1/12.9 MB 19.8 MB/s eta 0:00:01\n",
      "   ---------------------------------------  12.9/12.9 MB 19.8 MB/s eta 0:00:01\n",
      "   ---------------------------------------  12.9/12.9 MB 19.8 MB/s eta 0:00:01\n",
      "   ---------------------------------------- 12.9/12.9 MB 17.2 MB/s eta 0:00:00\n",
      "Installing collected packages: numpy\n",
      "Successfully installed numpy-2.2.3\n"
     ]
    },
    {
     "name": "stderr",
     "output_type": "stream",
     "text": [
      "\n",
      "[notice] A new release of pip is available: 24.0 -> 25.0.1\n",
      "[notice] To update, run: C:\\Users\\pedro\\AppData\\Local\\Microsoft\\WindowsApps\\PythonSoftwareFoundation.Python.3.11_qbz5n2kfra8p0\\python.exe -m pip install --upgrade pip\n"
     ]
    }
   ],
   "source": [
    "##!pip install numpy"
   ]
  },
  {
   "cell_type": "markdown",
   "metadata": {
    "id": "JG5mbDHvpS0p"
   },
   "source": [
    "## Arrays NumPy\n",
    "\n",
    "Um array é uma estrutura de dados que armazena valores de um mesmo tipo. Em Python, isso é uma grande vantagem porque economiza espaço e permite operações mais eficientes."
   ]
  },
  {
   "cell_type": "code",
   "execution_count": 2,
   "metadata": {
    "id": "wou4zRsipYcR"
   },
   "outputs": [
    {
     "name": "stdout",
     "output_type": "stream",
     "text": [
      "[1 2 3 4 5]\n"
     ]
    }
   ],
   "source": [
    "import numpy as np\n",
    "\n",
    "array = np.array([1, 2, 3, 4, 5])\n",
    "print(array)"
   ]
  },
  {
   "cell_type": "markdown",
   "metadata": {
    "id": "byBKpRdnpS0q"
   },
   "source": [
    "É relevante entender a diferença entre uma lista e um array.\n",
    "\n",
    "Uma **lista** é uma das estruturas de dados mais básicas em Python. Ela pode conter qualquer tipo de elementos, como números, strings, outras listas, e todos eles podem ser de tipos diferentes. Por exemplo:\n"
   ]
  },
  {
   "cell_type": "code",
   "execution_count": 3,
   "metadata": {
    "id": "-lMHXuskpujN"
   },
   "outputs": [
    {
     "name": "stdout",
     "output_type": "stream",
     "text": [
      "[1, 'dois', 3.0]\n"
     ]
    }
   ],
   "source": [
    "lista = [1, 'dois', 3.0]\n",
    "print(lista)"
   ]
  },
  {
   "cell_type": "code",
   "execution_count": 4,
   "metadata": {},
   "outputs": [
    {
     "name": "stdout",
     "output_type": "stream",
     "text": [
      "<class 'list'>\n"
     ]
    }
   ],
   "source": [
    "print(type(lista))"
   ]
  },
  {
   "cell_type": "code",
   "execution_count": 5,
   "metadata": {},
   "outputs": [
    {
     "name": "stdout",
     "output_type": "stream",
     "text": [
      "<class 'int'>\n",
      "<class 'str'>\n",
      "<class 'float'>\n"
     ]
    }
   ],
   "source": [
    "for elemento in lista:\n",
    "    print(type(elemento))"
   ]
  },
  {
   "cell_type": "markdown",
   "metadata": {
    "id": "Tko5ffjnpS0r"
   },
   "source": [
    "Um **array**, por outro lado, é uma estrutura de dados que também armazena elementos, mas todos os elementos devem ser do mesmo tipo. Se você tentar criar um array com elementos de tipos diferentes, o NumPy irá convertê-los todos para o tipo mais geral. Por exemplo:"
   ]
  },
  {
   "cell_type": "code",
   "execution_count": 6,
   "metadata": {
    "id": "4mxRmRGrpw_p"
   },
   "outputs": [
    {
     "name": "stdout",
     "output_type": "stream",
     "text": [
      "['1' 'dois' '3.0']\n"
     ]
    }
   ],
   "source": [
    "array = np.array(lista)\n",
    "print(array)"
   ]
  },
  {
   "cell_type": "code",
   "execution_count": 7,
   "metadata": {},
   "outputs": [
    {
     "name": "stdout",
     "output_type": "stream",
     "text": [
      "<class 'numpy.ndarray'>\n"
     ]
    }
   ],
   "source": [
    "print(type(array))"
   ]
  },
  {
   "cell_type": "code",
   "execution_count": 8,
   "metadata": {},
   "outputs": [
    {
     "name": "stdout",
     "output_type": "stream",
     "text": [
      "<U32\n"
     ]
    }
   ],
   "source": [
    "print(array.dtype)"
   ]
  },
  {
   "cell_type": "markdown",
   "metadata": {
    "id": "npbEgJJkpS0s"
   },
   "source": [
    "\n",
    "## Operações Matemáticas\n",
    "\n",
    "Se você tentar adicionar um número a todos os elementos de uma lista, você receberá um erro.\n",
    "\n"
   ]
  },
  {
   "cell_type": "code",
   "execution_count": 9,
   "metadata": {
    "id": "ZJ3tCJPYpzQf"
   },
   "outputs": [
    {
     "ename": "TypeError",
     "evalue": "can only concatenate list (not \"int\") to list",
     "output_type": "error",
     "traceback": [
      "\u001b[1;31m---------------------------------------------------------------------------\u001b[0m",
      "\u001b[1;31mTypeError\u001b[0m                                 Traceback (most recent call last)",
      "Cell \u001b[1;32mIn[9], line 2\u001b[0m\n\u001b[0;32m      1\u001b[0m lista \u001b[38;5;241m=\u001b[39m [\u001b[38;5;241m1\u001b[39m, \u001b[38;5;241m2\u001b[39m, \u001b[38;5;241m3\u001b[39m, \u001b[38;5;241m4\u001b[39m, \u001b[38;5;241m5\u001b[39m]\n\u001b[1;32m----> 2\u001b[0m nova_lista \u001b[38;5;241m=\u001b[39m \u001b[43mlista\u001b[49m\u001b[43m \u001b[49m\u001b[38;5;241;43m+\u001b[39;49m\u001b[43m \u001b[49m\u001b[38;5;241;43m1\u001b[39;49m \u001b[38;5;66;03m#isso causará um erro\u001b[39;00m\n\u001b[0;32m      3\u001b[0m \u001b[38;5;28mprint\u001b[39m(nova_lista)\n",
      "\u001b[1;31mTypeError\u001b[0m: can only concatenate list (not \"int\") to list"
     ]
    }
   ],
   "source": [
    "lista = [1, 2, 3, 4, 5]\n",
    "nova_lista = lista + 1 #isso causará um erro\n",
    "print(nova_lista)"
   ]
  },
  {
   "cell_type": "code",
   "execution_count": 11,
   "metadata": {},
   "outputs": [
    {
     "name": "stdout",
     "output_type": "stream",
     "text": [
      "[2, 3, 4, 5, 6]\n"
     ]
    }
   ],
   "source": [
    "nova_lista = []\n",
    "\n",
    "for numero in lista:\n",
    "    nova_lista.append(numero + 1)\n",
    "\n",
    "print(nova_lista)"
   ]
  },
  {
   "cell_type": "markdown",
   "metadata": {
    "id": "Q7VujUWXpS0s"
   },
   "source": [
    "Com um array NumPy, você pode adicionar (ou subtrair, multiplicar, dividir) um número a todos os elementos de uma vez.\n",
    "\n"
   ]
  },
  {
   "cell_type": "code",
   "execution_count": 12,
   "metadata": {
    "id": "z_IVsBH9p1Dd"
   },
   "outputs": [
    {
     "name": "stdout",
     "output_type": "stream",
     "text": [
      "[2 3 4 5 6]\n"
     ]
    }
   ],
   "source": [
    "array = np.array([1, 2, 3, 4, 5])\n",
    "novo_array = array + 1\n",
    "print(novo_array)"
   ]
  },
  {
   "cell_type": "markdown",
   "metadata": {
    "id": "_T3MaA0NpS0t"
   },
   "source": [
    "## Desempenho\n",
    "\n",
    "Para grandes quantidades de dados, os arrays NumPy são significativamente mais eficientes em termos de memória e desempenho do que as listas Python. Aqui está um exemplo que demonstra isso:\n",
    "\n"
   ]
  },
  {
   "cell_type": "code",
   "execution_count": 13,
   "metadata": {
    "id": "tDG8l7UXp2QF"
   },
   "outputs": [
    {
     "name": "stdout",
     "output_type": "stream",
     "text": [
      "Tempo para somar todos os números na lista: 0.2971177101135254 segundos\n",
      "Tempo para somar todos os números no array: 0.006958484649658203 segundos\n"
     ]
    }
   ],
   "source": [
    "import numpy as np\n",
    "import time\n",
    "\n",
    "## crie uma lista e um array com 10 milhões de números\n",
    "lista = list(range(1, 10_000_001))\n",
    "array = np.array(range(1, 10_000_001))\n",
    "\n",
    "## calcule a soma de todos os números da lista\n",
    "inicio = time.time()\n",
    "soma_lista = sum(lista)\n",
    "fim = time.time()\n",
    "print(f\"Tempo para somar todos os números na lista: {fim - inicio} segundos\")\n",
    "\n",
    "inicio = time.time()\n",
    "soma_array = np.sum(array)\n",
    "fim = time.time()\n",
    "print(f\"Tempo para somar todos os números no array: {fim - inicio} segundos\")"
   ]
  },
  {
   "cell_type": "markdown",
   "metadata": {
    "id": "8OSreiN_pS0t"
   },
   "source": [
    "## Resumindo\n",
    "\n",
    "Aqui estão algumas diferenças chave entre listas e arrays:\n",
    "\n",
    "1. **Tipo de dados**: As listas podem armazenar elementos de tipos diferentes ao mesmo tempo, enquanto os arrays armazenam elementos do mesmo tipo.\n",
    "\n",
    "2. **Operações matemáticas**: Você pode realizar operações matemáticas em todos os elementos de um array de uma vez, o que não é possível com listas.\n",
    "\n",
    "3. **Desempenho**: Arrays são mais eficientes em termos de memória e desempenho do que listas quando se trabalha com grandes quantidades de dados numéricos.\n",
    "\n",
    "4. **Funcionalidades**: NumPy arrays vêm com várias funções integradas para operações matemáticas e científicas, como média, soma, multiplicação de matrizes, etc., que não estão disponíveis com listas.\n"
   ]
  }
 ],
 "metadata": {
  "colab": {
   "provenance": []
  },
  "kernelspec": {
   "display_name": "Python 3",
   "language": "python",
   "name": "python3"
  },
  "language_info": {
   "codemirror_mode": {
    "name": "ipython",
    "version": 3
   },
   "file_extension": ".py",
   "mimetype": "text/x-python",
   "name": "python",
   "nbconvert_exporter": "python",
   "pygments_lexer": "ipython3",
   "version": "3.11.9"
  }
 },
 "nbformat": 4,
 "nbformat_minor": 0
}
